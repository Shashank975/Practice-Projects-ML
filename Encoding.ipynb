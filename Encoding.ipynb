{
  "nbformat": 4,
  "nbformat_minor": 0,
  "metadata": {
    "colab": {
      "provenance": [],
      "authorship_tag": "ABX9TyNNndn5FlPBsd4w0ACZAvwE",
      "include_colab_link": true
    },
    "kernelspec": {
      "name": "python3",
      "display_name": "Python 3"
    },
    "language_info": {
      "name": "python"
    }
  },
  "cells": [
    {
      "cell_type": "markdown",
      "metadata": {
        "id": "view-in-github",
        "colab_type": "text"
      },
      "source": [
        "<a href=\"https://colab.research.google.com/github/Shashank975/Practice-Projects-ML/blob/main/Encoding.ipynb\" target=\"_parent\"><img src=\"https://colab.research.google.com/assets/colab-badge.svg\" alt=\"Open In Colab\"/></a>"
      ]
    },
    {
      "cell_type": "code",
      "source": [
        "import pandas as pd\n",
        "import numpy as np\n",
        "import matplotlib.pyplot as plt\n",
        "from sklearn.model_selection import train_test_split, GridSearchCV\n",
        "from sklearn.preprocessing import OneHotEncoder, StandardScaler\n",
        "from sklearn.ensemble import RandomForestRegressor\n",
        "from sklearn.metrics import mean_squared_error\n",
        "from xgboost import XGBRegressor\n",
        "\n",
        "# Load dataset\n",
        "df = pd.read_csv(\"/content/product_.csv\")\n",
        "\n",
        "# Basic data checks\n",
        "print(df.info())  # Check for missing values\n",
        "print(df.describe())  # Get summary statistics\n",
        "\n",
        "# Check price distribution\n",
        "plt.hist(df['Price'], bins=50, color='blue', alpha=0.7)\n",
        "plt.xlabel(\"Price\")\n",
        "plt.ylabel(\"Frequency\")\n",
        "plt.title(\"Distribution of Product Prices\")\n",
        "plt.show()\n",
        "\n",
        "# Separate features and target\n",
        "X = df.drop(columns=['Product_ID', 'Price'])  # Features (excluding ID and target)\n",
        "y = df['Price']  # Target variable\n",
        "\n",
        "# Split the dataset\n",
        "X_train, X_test, y_train, y_test = train_test_split(X, y, test_size=0.2, random_state=42)\n",
        "\n",
        "# Identify categorical and numerical features\n",
        "categorical_features = ['Category', 'Brand']\n",
        "numerical_features = ['Rating']\n",
        "\n",
        "# Apply One-Hot Encoding to categorical features\n",
        "encoder = OneHotEncoder(handle_unknown='ignore', sparse_output=False)\n",
        "X_train_cat_encoded = encoder.fit_transform(X_train[categorical_features])\n",
        "X_test_cat_encoded = encoder.transform(X_test[categorical_features])\n",
        "\n",
        "# Convert encoded arrays to DataFrames\n",
        "X_train_cat_df = pd.DataFrame(X_train_cat_encoded, columns=encoder.get_feature_names_out(categorical_features), index=X_train.index)\n",
        "X_test_cat_df = pd.DataFrame(X_test_cat_encoded, columns=encoder.get_feature_names_out(categorical_features), index=X_test.index)\n",
        "\n",
        "# Scale numerical features\n",
        "scaler = StandardScaler()\n",
        "X_train_num_scaled = scaler.fit_transform(X_train[numerical_features])\n",
        "X_test_num_scaled = scaler.transform(X_test[numerical_features])\n",
        "\n",
        "# Convert back to DataFrame\n",
        "X_train_num_df = pd.DataFrame(X_train_num_scaled, columns=numerical_features, index=X_train.index)\n",
        "X_test_num_df = pd.DataFrame(X_test_num_scaled, columns=numerical_features, index=X_test.index)\n",
        "\n",
        "# Combine encoded categorical features with numerical features\n",
        "X_train_final = pd.concat([X_train_cat_df, X_train_num_df], axis=1)\n",
        "X_test_final = pd.concat([X_test_cat_df, X_test_num_df], axis=1)\n",
        "\n",
        "# Hyperparameter tuning for RandomForest\n",
        "param_grid = {\n",
        "    'n_estimators': [50, 100, 200],\n",
        "    'max_depth': [None, 10, 20],\n",
        "    'min_samples_split': [2, 5, 10]\n",
        "}\n",
        "\n",
        "grid_search = GridSearchCV(RandomForestRegressor(random_state=42), param_grid, cv=3, scoring='neg_root_mean_squared_error', n_jobs=-1)\n",
        "grid_search.fit(X_train_final, y_train)\n",
        "\n",
        "# Best model after tuning\n",
        "best_rf_model = grid_search.best_estimator_\n",
        "print(\"Best Parameters for Random Forest:\", grid_search.best_params_)\n",
        "\n",
        "# Train best Random Forest model\n",
        "best_rf_model.fit(X_train_final, y_train)\n",
        "y_pred_rf = best_rf_model.predict(X_test_final)\n",
        "rmse_rf = np.sqrt(mean_squared_error(y_test, y_pred_rf))\n",
        "print(\"Optimized RMSE (RandomForest):\", rmse_rf)\n",
        "\n",
        "# Train XGBoost Model\n",
        "xgb_model = XGBRegressor(n_estimators=100, learning_rate=0.1, max_depth=6, random_state=42)\n",
        "xgb_model.fit(X_train_final, y_train)\n",
        "y_pred_xgb = xgb_model.predict(X_test_final)\n",
        "rmse_xgb = np.sqrt(mean_squared_error(y_test, y_pred_xgb))\n",
        "print(\"XGBoost RMSE:\", rmse_xgb)\n"
      ],
      "metadata": {
        "colab": {
          "base_uri": "https://localhost:8080/",
          "height": 906
        },
        "id": "EtPlY4R1m8G0",
        "outputId": "4dcc4cd3-cc5c-4775-c977-e3a5c476c698"
      },
      "execution_count": null,
      "outputs": [
        {
          "output_type": "stream",
          "name": "stdout",
          "text": [
            "<class 'pandas.core.frame.DataFrame'>\n",
            "RangeIndex: 500 entries, 0 to 499\n",
            "Data columns (total 5 columns):\n",
            " #   Column      Non-Null Count  Dtype  \n",
            "---  ------      --------------  -----  \n",
            " 0   Product_ID  500 non-null    object \n",
            " 1   Category    500 non-null    object \n",
            " 2   Brand       500 non-null    object \n",
            " 3   Price       500 non-null    int64  \n",
            " 4   Rating      500 non-null    float64\n",
            "dtypes: float64(1), int64(1), object(3)\n",
            "memory usage: 19.7+ KB\n",
            "None\n",
            "            Price      Rating\n",
            "count   500.00000  500.000000\n",
            "mean   2822.55000    3.028800\n",
            "std    1260.34009    1.168118\n",
            "min     503.00000    1.000000\n",
            "25%    1803.25000    2.000000\n",
            "50%    2810.00000    3.100000\n",
            "75%    3879.25000    4.000000\n",
            "max    4991.00000    5.000000\n"
          ]
        },
        {
          "output_type": "display_data",
          "data": {
            "text/plain": [
              "<Figure size 640x480 with 1 Axes>"
            ],
            "image/png": "[encoded data removed]"
          },
          "metadata": {}
        },
        {
          "output_type": "stream",
          "name": "stdout",
          "text": [
            "Best Parameters for Random Forest: {'max_depth': 10, 'min_samples_split': 10, 'n_estimators': 100}\n",
            "Optimized RMSE (RandomForest): 1312.621406334091\n",
            "XGBoost RMSE: 1426.8469171568477\n"
          ]
        }
      ]
    }
  ]
}